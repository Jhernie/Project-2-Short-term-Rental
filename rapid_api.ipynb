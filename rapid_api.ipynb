{
 "cells": [
  {
   "cell_type": "code",
   "execution_count": 9,
   "id": "a34e2779-051b-4a36-a49e-a36c28da9104",
   "metadata": {},
   "outputs": [],
   "source": [
    "import requests\n",
    "from pprint import pprint"
   ]
  },
  {
   "cell_type": "code",
   "execution_count": 10,
   "id": "7999c663-0f19-40bc-8160-fd25d584e099",
   "metadata": {},
   "outputs": [
    {
     "name": "stdout",
     "output_type": "stream",
     "text": [
      "{\"message\":\"You have exceeded the MONTHLY quota for Basic on your current plan, BASIC. Upgrade your plan at https:\\/\\/rapidapi.com\\/DataCrawler\\/api\\/airbnb19\"}\n",
      "<Response [429]>\n"
     ]
    }
   ],
   "source": [
    "url = \"https://airbnb19.p.rapidapi.com/api/v1/searchPropertyByPlace\"\n",
    "\n",
    "querystring = {\"id\":\"ChIJ7cv00DwsDogRAMDACa2m4K8\",\"currency\":\"USD\",\"adults\":\"1\"}\n",
    "\n",
    "headers = {\n",
    "\"X-RapidAPI-Key\": \"08e090b917msh87c48f113025ddfp168873jsnd24c6e19e99a\",\n",
    "\"X-RapidAPI-Host\": \"airbnb19.p.rapidapi.com\"\n",
    "}\n",
    "\n",
    "response = requests.request(\"GET\", url, headers=headers, params=querystring)\n",
    "\n",
    "print(response.text)\n",
    "\n",
    "pprint(response)"
   ]
  },
  {
   "cell_type": "code",
   "execution_count": null,
   "id": "8d75121d-cf94-440d-9708-8b6f1816be08",
   "metadata": {},
   "outputs": [],
   "source": []
  }
 ],
 "metadata": {
  "kernelspec": {
   "display_name": "Python 3 (ipykernel)",
   "language": "python",
   "name": "python3"
  },
  "language_info": {
   "codemirror_mode": {
    "name": "ipython",
    "version": 3
   },
   "file_extension": ".py",
   "mimetype": "text/x-python",
   "name": "python",
   "nbconvert_exporter": "python",
   "pygments_lexer": "ipython3",
   "version": "3.9.13"
  }
 },
 "nbformat": 4,
 "nbformat_minor": 5
}
